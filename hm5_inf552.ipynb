{
 "cells": [
  {
   "cell_type": "code",
   "execution_count": 1,
   "metadata": {},
   "outputs": [],
   "source": [
    "import pandas as pd\n",
    "import numpy as np\n",
    "from sklearn.metrics import confusion_matrix,roc_auc_score,roc_curve,auc\n",
    "from sklearn.metrics import accuracy_score\n",
    "from sklearn.metrics import hamming_loss\n",
    "inf552= pd.read_csv(\"C:\\\\Users\\\\DELL\\\\Desktop\\\\INF552\\\\HM5\\\\Frogs_MFCCs.csv\")\n",
    "#  Choose 70% of the data randomly as the training set, 30% as the test data\n",
    "traindata=inf552.sample(frac=0.7,random_state=123 ,axis=0)\n",
    "testdata=inf552.drop(index=traindata.index)"
   ]
  },
  {
   "cell_type": "code",
   "execution_count": 2,
   "metadata": {},
   "outputs": [],
   "source": [
    "# divide traindata into X and Y\n",
    "traindata_x=pd.DataFrame(traindata.iloc[:,:-4])\n",
    "traindata_family=pd.DataFrame(traindata.iloc[:,-4])\n",
    "traindata_genus=pd.DataFrame(traindata.iloc[:,-3])\n",
    "traindata_species=pd.DataFrame(traindata.iloc[:,-2])\n",
    "# divide testdata into X and Y\n",
    "testdata_x=pd.DataFrame(testdata.iloc[:,:-4])\n",
    "testdata_family=pd.DataFrame(testdata.iloc[:,-4])\n",
    "testdata_genus=pd.DataFrame(testdata.iloc[:,-3])\n",
    "testdata_species=pd.DataFrame(testdata.iloc[:,-2])"
   ]
  },
  {
   "cell_type": "code",
   "execution_count": 17,
   "metadata": {},
   "outputs": [],
   "source": [
    "from sklearn import preprocessing\n",
    "from sklearn.model_selection import GridSearchCV\n",
    "from sklearn.svm import SVC\n",
    "from sklearn.multiclass import OneVsRestClassifier\n",
    "from sklearn.preprocessing import label_binarize\n",
    "from sklearn.metrics import roc_curve, auc\n",
    "import warnings\n",
    "warnings.filterwarnings(\"ignore\")"
   ]
  },
  {
   "cell_type": "code",
   "execution_count": 140,
   "metadata": {},
   "outputs": [
    {
     "name": "stdout",
     "output_type": "stream",
     "text": [
      "the accuracy for λ = 10−2 is:  0.607823669579031\n",
      "the accuracy for λ = 10+5 is:  1.0\n",
      "the accuracy will not below 60% for λ = 10−2 and λ = 10+5\n",
      "the accuracy for gamma = 10−4 is:  0.607823669579031\n",
      "the accuracy for gamma = 10+2 is:  1.0\n",
      "the accuracy will not below 60% for gamma = 10−4 and gamma = 10+2\n"
     ]
    }
   ],
   "source": [
    "#determine the ranges for σ and λ that keep the accuracy above a threshold (e.g.60%)\n",
    "cls_family = OneVsRestClassifier(SVC(kernel='rbf',random_state=123,C=10**(-2))).fit(traindata_x, traindata_family)\n",
    "print('the accuracy for λ = 10−2 is: ',cls_family.score(traindata_x, traindata_family))\n",
    "cls_family2 = OneVsRestClassifier(SVC(kernel='rbf',random_state=123,C=10**(5))).fit(traindata_x, traindata_family)\n",
    "print('the accuracy for λ = 10+5 is: ',cls_family2.score(traindata_x, traindata_family))\n",
    "print('the accuracy will not below 60% for λ = 10−2 and λ = 10+5')\n",
    "cls_family3 = OneVsRestClassifier(SVC(kernel='rbf',random_state=123,gamma=0.0001)).fit(traindata_x, traindata_family)\n",
    "print('the accuracy for gamma = 10−4 is: ',cls_family3.score(traindata_x, traindata_family))\n",
    "cls_family4 = OneVsRestClassifier(SVC(kernel='rbf',random_state=123,gamma=100)).fit(traindata_x, traindata_family)\n",
    "print('the accuracy for gamma = 10+2 is: ',cls_family4.score(traindata_x, traindata_family))\n",
    "print('the accuracy will not below 60% for gamma = 10−4 and gamma = 10+2')"
   ]
  },
  {
   "cell_type": "code",
   "execution_count": 142,
   "metadata": {},
   "outputs": [],
   "source": [
    "#Train a SVM for each of the family labels, using Gaussian kernels and one versus all classiﬁers. \n",
    "# select a fixed number of parameters (e.g.,10) in the parameters' range  and use them for 10 fold cross validation. \n",
    "C_range = np.logspace(-2, 5, 10)\n",
    "gamma_range = np.linspace(0.0001, 100,10)\n",
    "param_grid = dict(estimator__degree=gamma_range,estimator__C=C_range)\n",
    "cls = OneVsRestClassifier(SVC(kernel='rbf',random_state=123))\n",
    "model_family =  GridSearchCV(cls, param_grid=param_grid, cv=10).fit(traindata_x, traindata_family)"
   ]
  },
  {
   "cell_type": "code",
   "execution_count": 143,
   "metadata": {},
   "outputs": [
    {
     "name": "stdout",
     "output_type": "stream",
     "text": [
      "Exact match score:  0.9874942102825383\n",
      "Hamming loss score:  0.012505789717461788\n"
     ]
    }
   ],
   "source": [
    "# evaluate the classiﬁers for family using Exact match and Hamming loss \n",
    "test_pred=model_family.predict(testdata_x)\n",
    "f1=accuracy_score(testdata_family,test_pred);f2=hamming_loss(testdata_family,test_pred);\n",
    "print('Exact match score: ',f1)\n",
    "print('Hamming loss score: ',f2)"
   ]
  },
  {
   "cell_type": "code",
   "execution_count": 149,
   "metadata": {},
   "outputs": [
    {
     "name": "stdout",
     "output_type": "stream",
     "text": [
      "the accuracy for λ = 10−1.5 is:  0.6479348689436061\n",
      "the accuracy for λ = 10+5 is:  1.0\n",
      "the accuracy will not below 60% for λ = 10−1.5 and λ = 10+5\n",
      "the accuracy for gamma = 10−3 is:  0.6336378077839555\n",
      "the accuracy for gamma = 10+1 is:  1.0\n",
      "the accuracy will not below 60% for gamma = 10−3 and gamma = 10+1\n"
     ]
    }
   ],
   "source": [
    "#determine the ranges for σ and λ that keep the accuracy above a threshold (e.g.60%)\n",
    "cls_genus = OneVsRestClassifier(SVC(kernel='rbf',random_state=123,C=10**(-1.5))).fit(traindata_x, traindata_genus)\n",
    "print('the accuracy for λ = 10−1.5 is: ',cls_genus.score(traindata_x, traindata_genus))\n",
    "cls_genus2 = OneVsRestClassifier(SVC(kernel='rbf',random_state=123,C=10**(5))).fit(traindata_x, traindata_genus)\n",
    "print('the accuracy for λ = 10+5 is: ',cls_genus2.score(traindata_x, traindata_genus))\n",
    "print('the accuracy will not below 60% for λ = 10−1.5 and λ = 10+5')\n",
    "cls_genus3 = OneVsRestClassifier(SVC(kernel='rbf',random_state=123,gamma=10**(-3))).fit(traindata_x, traindata_genus)\n",
    "print('the accuracy for gamma = 10−3 is: ',cls_genus3.score(traindata_x, traindata_genus))\n",
    "cls_genus4 = OneVsRestClassifier(SVC(kernel='rbf',random_state=123,gamma=10**(1))).fit(traindata_x, traindata_genus)\n",
    "print('the accuracy for gamma = 10+1 is: ',cls_genus4.score(traindata_x, traindata_genus))\n",
    "print('the accuracy will not below 60% for gamma = 10−3 and gamma = 10+1')"
   ]
  },
  {
   "cell_type": "code",
   "execution_count": 150,
   "metadata": {},
   "outputs": [],
   "source": [
    "#Train a SVM for the genus labels\n",
    "C_range = np.logspace(-1.5, 5, 10)\n",
    "gamma_range = np.linspace(0.001, 10,10)\n",
    "param_grid = dict(estimator__degree=gamma_range,estimator__C=C_range)\n",
    "model_genus = GridSearchCV(cls, param_grid=param_grid, cv=10).fit(traindata_x, traindata_genus)"
   ]
  },
  {
   "cell_type": "code",
   "execution_count": 151,
   "metadata": {},
   "outputs": [
    {
     "name": "stdout",
     "output_type": "stream",
     "text": [
      "Classifer for Genus\n",
      "Exact match score:  0.9879573876794813\n",
      "Hamming loss score:  0.012042612320518759\n"
     ]
    }
   ],
   "source": [
    "# evaluate the classiﬁers using Exact match and Hamming loss \n",
    "test_pred2=model_genus.predict(testdata_x)\n",
    "print('Classifer for Genus')\n",
    "g1=accuracy_score(testdata_genus,test_pred2);g2=hamming_loss(testdata_genus,test_pred2);\n",
    "print('Exact match score: ',g1)\n",
    "print('Hamming loss score: ',g2)"
   ]
  },
  {
   "cell_type": "code",
   "execution_count": 160,
   "metadata": {},
   "outputs": [
    {
     "name": "stdout",
     "output_type": "stream",
     "text": [
      "the accuracy for λ = 10−1.7 is:  0.6266878474980143\n",
      "the accuracy for λ = 10+5 is:  1.0\n",
      "the accuracy will not below 60% for λ = 10−1.7 and λ = 10+5\n",
      "the accuracy for gamma = 10−3 is:  0.6384034948371724\n",
      "the accuracy for gamma = 10+1 is:  1.0\n",
      "the accuracy will not below 60% for gamma = 10−3 and gamma = 10+1\n"
     ]
    }
   ],
   "source": [
    "#determine the ranges for σ and λ that keep the accuracy above a threshold (e.g.60%)\n",
    "cls_species = OneVsRestClassifier(SVC(kernel='rbf',random_state=123,C=10**(-1.7))).fit(traindata_x, traindata_species)\n",
    "print('the accuracy for λ = 10−1.7 is: ',cls_species.score(traindata_x, traindata_species))\n",
    "cls_species2 = OneVsRestClassifier(SVC(kernel='rbf',random_state=123,C=10**(5))).fit(traindata_x, traindata_species)\n",
    "print('the accuracy for λ = 10+5 is: ',cls_species2.score(traindata_x, traindata_species))\n",
    "print('the accuracy will not below 60% for λ = 10−1.7 and λ = 10+5')\n",
    "cls_species3 = OneVsRestClassifier(SVC(kernel='rbf',random_state=123,gamma=10**(-3))).fit(traindata_x, traindata_species)\n",
    "print('the accuracy for gamma = 10−3 is: ',cls_species3.score(traindata_x, traindata_species))\n",
    "cls_species4 = OneVsRestClassifier(SVC(kernel='rbf',random_state=123,gamma=10**(1))).fit(traindata_x, traindata_species)\n",
    "print('the accuracy for gamma = 10+1 is: ',cls_species4.score(traindata_x, traindata_species))\n",
    "print('the accuracy will not below 60% for gamma = 10−3 and gamma = 10+1')"
   ]
  },
  {
   "cell_type": "code",
   "execution_count": 158,
   "metadata": {},
   "outputs": [],
   "source": [
    "#Train a SVM for the species labels\n",
    "C_range = np.logspace(-1.7, 5, 10)\n",
    "gamma_range = np.linspace(0.0001, 10,10)\n",
    "param_grid = dict(estimator__degree=gamma_range,estimator__C=C_range)\n",
    "model_species =  GridSearchCV(cls, param_grid=param_grid, cv=10).fit(traindata_x, traindata_species)"
   ]
  },
  {
   "cell_type": "code",
   "execution_count": 159,
   "metadata": {},
   "outputs": [
    {
     "name": "stdout",
     "output_type": "stream",
     "text": [
      "Exact match score:  0.9874942102825383\n",
      "Hamming loss score:  0.012505789717461788\n"
     ]
    }
   ],
   "source": [
    "# evaluate the classiﬁers using Exact match and Hamming loss \n",
    "test_pred3=model_species.predict(testdata_x)\n",
    "s1=accuracy_score(testdata_species,test_pred3);s2=hamming_loss(testdata_species,test_pred3);\n",
    "print('Exact match score: ',s1)\n",
    "print('Hamming loss score: ',s2)"
   ]
  },
  {
   "cell_type": "code",
   "execution_count": 197,
   "metadata": {},
   "outputs": [
    {
     "name": "stdout",
     "output_type": "stream",
     "text": [
      "the accuracy for λ = 10−5 is:  0.607823669579031\n",
      "the accuracy for λ = 10+1 is:  0.9426131850675139\n",
      "the accuracy will not below 60% for λ = 10−5 and λ = 10+1\n"
     ]
    }
   ],
   "source": [
    "from sklearn import preprocessing\n",
    "from sklearn.svm import LinearSVC\n",
    "train_x=preprocessing.scale(traindata_x)\n",
    "#determine the ranges for λ that keep the accuracy above a threshold (e.g.60%)\n",
    "cls2_family = OneVsRestClassifier(LinearSVC(penalty='l1',random_state=123,dual=False,C=10**(-5))).fit(train_x, traindata_family)\n",
    "print('the accuracy for λ = 10−5 is: ',cls2_family.score(train_x, traindata_family))\n",
    "cls2_family2 = OneVsRestClassifier(LinearSVC(penalty='l1',random_state=123,dual=False,C=10**(1))).fit(train_x, traindata_family)\n",
    "print('the accuracy for λ = 10+1 is: ',cls2_family2.score(train_x, traindata_family))\n",
    "print('the accuracy will not below 60% for λ = 10−5 and λ = 10+1')"
   ]
  },
  {
   "cell_type": "code",
   "execution_count": 183,
   "metadata": {},
   "outputs": [],
   "source": [
    "# Train the L1-penalized SVMs for family using standardized attributes\n",
    "# Determine the weight of the SVM penalty using 10 fold cross validation. \n",
    "from sklearn import preprocessing\n",
    "from sklearn.svm import LinearSVC\n",
    "train_x=preprocessing.scale(traindata_x)\n",
    "C_range2 = np.logspace(-5, 1, 10)\n",
    "param_grid2 = dict(estimator__C=C_range)\n",
    "cls2 = OneVsRestClassifier(LinearSVC(penalty='l1',random_state=123,dual=False))\n",
    "model2_family =  GridSearchCV(cls2, param_grid=param_grid2, cv=10).fit(train_x, traindata_family)"
   ]
  },
  {
   "cell_type": "code",
   "execution_count": 184,
   "metadata": {},
   "outputs": [
    {
     "name": "stdout",
     "output_type": "stream",
     "text": [
      "Exact match score:  0.9282075034738305\n",
      "Hamming loss score:  0.07179249652616952\n"
     ]
    }
   ],
   "source": [
    "# evaluate the classiﬁers for family using Exact match and Hamming loss\n",
    "test_x=preprocessing.scale(testdata_x)\n",
    "pred=model2_family.predict(test_x)\n",
    "fa1=accuracy_score(testdata_family,pred);fa2=hamming_loss(testdata_family,pred);\n",
    "print('Exact match score: ',fa1)\n",
    "print('Hamming loss score: ',fa2)"
   ]
  },
  {
   "cell_type": "code",
   "execution_count": 198,
   "metadata": {},
   "outputs": [
    {
     "name": "stdout",
     "output_type": "stream",
     "text": [
      "the accuracy for λ = 10−3.8 is:  0.687251787132645\n",
      "the accuracy for λ = 10+4 is:  0.9575059571088165\n",
      "the accuracy will not below 60% for λ = 10−3.8 and λ = 10+4\n"
     ]
    }
   ],
   "source": [
    "#determine the ranges for λ that keep the accuracy above a threshold (e.g.60%)\n",
    "cls2_genus = OneVsRestClassifier(LinearSVC(penalty='l1',random_state=123,dual=False,C=10**(-3.8))).fit(train_x, traindata_genus)\n",
    "print('the accuracy for λ = 10−3.8 is: ',cls2_genus.score(train_x, traindata_genus))\n",
    "cls2_genus2 = OneVsRestClassifier(LinearSVC(penalty='l1',random_state=123,dual=False,C=10**(4))).fit(train_x, traindata_genus)\n",
    "print('the accuracy for λ = 10+4 is: ',cls2_genus2.score(train_x, traindata_genus))\n",
    "print('the accuracy will not below 60% for λ = 10−3.8 and λ = 10+4')"
   ]
  },
  {
   "cell_type": "code",
   "execution_count": 199,
   "metadata": {},
   "outputs": [],
   "source": [
    "# Train the L1-penalized SVMs for the genus labels using standardized attributes\n",
    "C_range2 = np.logspace(-3.8, 4, 10)\n",
    "param_grid2 = dict(estimator__C=C_range)\n",
    "model2_genus =  GridSearchCV(cls2, param_grid=param_grid2, cv=10).fit(train_x, traindata_genus)"
   ]
  },
  {
   "cell_type": "code",
   "execution_count": 200,
   "metadata": {},
   "outputs": [
    {
     "name": "stdout",
     "output_type": "stream",
     "text": [
      "Classifer for Genus\n",
      "Exact match score:  0.9550717924965262\n",
      "Hamming loss score:  0.04492820750347383\n"
     ]
    }
   ],
   "source": [
    "# evaluate the classiﬁers using Exact match and Hamming loss \n",
    "pred2=model2_genus.predict(test_x)\n",
    "ge1=accuracy_score(testdata_genus,pred2);ge2= hamming_loss(testdata_genus,pred2);\n",
    "print('Classifer for Genus')\n",
    "print('Exact match score: ',ge1)\n",
    "print('Hamming loss score: ',ge2)"
   ]
  },
  {
   "cell_type": "code",
   "execution_count": 209,
   "metadata": {},
   "outputs": [
    {
     "name": "stdout",
     "output_type": "stream",
     "text": [
      "the accuracy for λ = 10−3.4 is:  0.6123907863383637\n",
      "the accuracy for λ = 10+4 is:  0.9646544876886418\n",
      "the accuracy will not below 60% for λ = 10−3.4 and λ = 10+4\n"
     ]
    }
   ],
   "source": [
    "#determine the ranges for λ that keep the accuracy above a threshold (e.g.60%)\n",
    "cls2_species = OneVsRestClassifier(LinearSVC(penalty='l1',random_state=123,dual=False,C=10**(-3.4))).fit(train_x, traindata_species)\n",
    "print('the accuracy for λ = 10−3.4 is: ',cls2_species.score(train_x, traindata_species))\n",
    "cls2_species2 = OneVsRestClassifier(LinearSVC(penalty='l1',random_state=123,dual=False,C=10**(4))).fit(train_x, traindata_species)\n",
    "print('the accuracy for λ = 10+4 is: ',cls2_species2.score(train_x, traindata_species))\n",
    "print('the accuracy will not below 60% for λ = 10−3.4 and λ = 10+4')"
   ]
  },
  {
   "cell_type": "code",
   "execution_count": 210,
   "metadata": {},
   "outputs": [],
   "source": [
    "# Train the L1-penalized SVMs for the spcies labels using standardized attributes\n",
    "C_range2 = np.logspace(-3.4, 4, 10)\n",
    "param_grid2 = dict(estimator__C=C_range)\n",
    "model2_species =  GridSearchCV(cls2, param_grid=param_grid2, cv=10).fit(train_x, traindata_species)"
   ]
  },
  {
   "cell_type": "code",
   "execution_count": 211,
   "metadata": {},
   "outputs": [
    {
     "name": "stdout",
     "output_type": "stream",
     "text": [
      "Classifer for Species\n",
      "Exact match score:  0.9587772116720704\n",
      "Hamming loss score:  0.041222788327929596\n"
     ]
    }
   ],
   "source": [
    "# evaluate the classiﬁers using Exact match and Hamming loss \n",
    "pred3=model2_species.predict(test_x)\n",
    "sp1=accuracy_score(testdata_species,pred3);sp2=hamming_loss(testdata_species,pred3);\n",
    "print('Classifer for Species')\n",
    "print('Exact match score: ',sp1)\n",
    "print('Hamming loss score: ',sp2)"
   ]
  },
  {
   "cell_type": "code",
   "execution_count": 212,
   "metadata": {},
   "outputs": [],
   "source": [
    "# using SMOTE to remedy class imbalance\n",
    "import imblearn\n",
    "from imblearn.over_sampling import SMOTE\n",
    "os = SMOTE(random_state=123)\n",
    "os_data_x,os_data_family=os.fit_sample(train_x, traindata_family)\n",
    "os_data_x=pd.DataFrame(os_data_x)\n",
    "os_data_family=pd.DataFrame(os_data_family)\n",
    "os_data_x2,os_data_genus=os.fit_sample(train_x, traindata_genus)\n",
    "os_data_x2=pd.DataFrame(os_data_x2)\n",
    "os_data_genus=pd.DataFrame(os_data_genus)\n",
    "os_data_x3,os_data_species=os.fit_sample(train_x, traindata_species)\n",
    "os_data_x3=pd.DataFrame(os_data_x3)\n",
    "os_data_species=pd.DataFrame(os_data_species)\n",
    "C_range31 = np.logspace(-5, 1, 10)\n",
    "param_grid31 = dict(estimator__C=C_range31)\n",
    "model3_family =  GridSearchCV(cls2, param_grid=param_grid31, cv=10).fit(os_data_x, os_data_family)\n",
    "C_range32 = np.logspace(-3.8, 4, 10)\n",
    "param_grid32 = dict(estimator__C=C_range32)\n",
    "model3_genus =  GridSearchCV(cls2, param_grid=param_grid32, cv=10).fit(os_data_x2, os_data_genus)\n",
    "C_range33 = np.logspace(-3.4, 4, 10)\n",
    "param_grid33 = dict(estimator__C=C_range33)\n",
    "model3_species =  GridSearchCV(cls2, param_grid=param_grid33, cv=10).fit(os_data_x3, os_data_species)"
   ]
  },
  {
   "cell_type": "code",
   "execution_count": 213,
   "metadata": {},
   "outputs": [
    {
     "name": "stdout",
     "output_type": "stream",
     "text": [
      "Classifer for Family\n",
      "Exact match score:  0.9064381658175081\n",
      "Hamming loss score:  0.0935618341824919\n",
      "Classifer for Genus\n",
      "Exact match score:  0.904122278832793\n",
      "Hamming loss score:  0.09587772116720704\n",
      "Classifer for Species\n",
      "Exact match score:  0.953682260305697\n",
      "Hamming loss score:  0.04631773969430292\n"
     ]
    }
   ],
   "source": [
    "# evaluate the classiﬁers using Exact match and Hamming loss \n",
    "prediction=model3_family.predict(test_x)\n",
    "prediction2=model3_genus.predict(test_x)\n",
    "prediction3=model3_species.predict(test_x)\n",
    "print('Classifer for Family')\n",
    "family1=accuracy_score(testdata_family,prediction);family2=hamming_loss(testdata_family,prediction);\n",
    "print('Exact match score: ',family1)\n",
    "print('Hamming loss score: ',family2)\n",
    "print('Classifer for Genus')\n",
    "genus1=accuracy_score(testdata_genus,prediction2);genus2=hamming_loss(testdata_genus,prediction2);\n",
    "print('Exact match score: ',genus1)\n",
    "print('Hamming loss score: ',genus2)\n",
    "print('Classifer for Species')\n",
    "species1=accuracy_score(testdata_species,prediction3);species2=hamming_loss(testdata_species,prediction3);\n",
    "print('Exact match score: ',species1)\n",
    "print('Hamming loss score: ',species2)"
   ]
  },
  {
   "cell_type": "code",
   "execution_count": 214,
   "metadata": {},
   "outputs": [
    {
     "name": "stdout",
     "output_type": "stream",
     "text": [
      "+--------------------+------------------------+--------------------+---------------------------+\n",
      "|  Exact match ratio |  SVM(Gaussian kernels) |  L1-penalized SVM  |  L1-penalized SVM (SMOTE) |\n",
      "+--------------------+------------------------+--------------------+---------------------------+\n",
      "|       family       |   0.9874942102825383   | 0.9282075034738305 |     0.9064381658175081    |\n",
      "|       genus        |   0.9879573876794813   | 0.9550717924965262 |     0.904122278832793     |\n",
      "|      species       |   0.9874942102825383   | 0.9587772116720704 |     0.953682260305697     |\n",
      "+--------------------+------------------------+--------------------+---------------------------+\n",
      "for exact match ration, SVM(Gaussian kernels) > L1-penalized SVM > L1-penalized SVM (SMOTE)\n",
      "+----------------+------------------------+----------------------+---------------------------+\n",
      "|  Hamming score |  SVM(Gaussian kernels) |   L1-penalized SVM   |  L1-penalized SVM (SMOTE) |\n",
      "+----------------+------------------------+----------------------+---------------------------+\n",
      "|     family     |  0.012505789717461788  | 0.07179249652616952  |     0.0935618341824919    |\n",
      "|     genus      |  0.012042612320518759  | 0.04492820750347383  |    0.09587772116720704    |\n",
      "|    species     |  0.012505789717461788  | 0.041222788327929596 |    0.04631773969430292    |\n",
      "+----------------+------------------------+----------------------+---------------------------+\n",
      "for exact hamming score, SVM(Gaussian kernels) < L1-penalized SVM < L1-penalized SVM (SMOTE)\n"
     ]
    }
   ],
   "source": [
    "# conclusions about the classiﬁers\n",
    "from prettytable import PrettyTable \n",
    "table=PrettyTable([\" Exact match ratio\",\" SVM(Gaussian kernels)\",\" L1-penalized SVM\",\" L1-penalized SVM (SMOTE)\"])\n",
    "table.add_row([\"family\",f1,fa1,family1])\n",
    "table.add_row([\"genus\",g1,ge1,genus1])\n",
    "table.add_row([\"species\",s1,sp1,species1])\n",
    "table2=PrettyTable([\" Hamming score\",\" SVM(Gaussian kernels)\",\" L1-penalized SVM\",\" L1-penalized SVM (SMOTE)\"])\n",
    "table2.add_row([\"family\",f2,fa2,family2])\n",
    "table2.add_row([\"genus\",g2,ge2,genus2])\n",
    "table2.add_row([\"species\",s2,sp2,species2])\n",
    "print(table);\n",
    "print('for exact match ration, SVM(Gaussian kernels) > L1-penalized SVM > L1-penalized SVM (SMOTE)')\n",
    "print(table2);\n",
    "print('for exact hamming score, SVM(Gaussian kernels) < L1-penalized SVM < L1-penalized SVM (SMOTE)')"
   ]
  },
  {
   "cell_type": "markdown",
   "metadata": {},
   "source": [
    " Extra Practice: Study the Classiﬁer Chain method and apply it to the above problem."
   ]
  },
  {
   "cell_type": "code",
   "execution_count": 30,
   "metadata": {},
   "outputs": [],
   "source": [
    "from sklearn.multioutput import ClassifierChain\n",
    "X_train=pd.DataFrame(traindata.iloc[:,:-4])\n",
    "Y_train=pd.DataFrame(traindata.iloc[:,-4:-1])\n",
    "Y_train['Family'].replace('Bufonidae',1,inplace=True);Y_train['Family'].replace('Dendrobatidae',2,inplace=True);Y_train['Family'].replace('Hylidae',3,inplace=True);Y_train['Family'].replace('Leptodactylidae',4,inplace=True);\n",
    "Y_train['Genus'].replace('Adenomera',1,inplace=True);Y_train['Genus'].replace('Ameerega',2,inplace=True);Y_train['Genus'].replace('Dendropsophus',3,inplace=True);Y_train['Genus'].replace('Hypsiboas',4,inplace=True);\n",
    "Y_train['Genus'].replace('Leptodactylus',5,inplace=True);Y_train['Genus'].replace('Osteocephalus',6,inplace=True);Y_train['Genus'].replace('Rhinella',7,inplace=True);Y_train['Genus'].replace('Scinax',8,inplace=True);\n",
    "Y_train['Species'].replace('AdenomeraAndre',1,inplace=True);Y_train['Species'].replace('AdenomeraHylaedactylus',2,inplace=True);Y_train['Species'].replace('Ameeregatrivittata',3,inplace=True);Y_train['Species'].replace('HylaMinuta',4,inplace=True);\n",
    "Y_train['Species'].replace('HypsiboasCinerascens',5,inplace=True);Y_train['Species'].replace('HypsiboasCordobae',6,inplace=True);Y_train['Species'].replace('LeptodactylusFuscus',7,inplace=True);Y_train['Species'].replace('OsteocephalusOophagus',8,inplace=True);\n",
    "Y_train['Species'].replace('Rhinellagranulosa',9,inplace=True);Y_train['Species'].replace('ScinaxRuber',10,inplace=True);\n",
    "X_test=pd.DataFrame(testdata.iloc[:,:-4])\n",
    "Y_test=pd.DataFrame(testdata.iloc[:,-4:-1])\n",
    "Y_test['Family'].replace('Bufonidae',1,inplace=True);Y_test['Family'].replace('Dendrobatidae',2,inplace=True);Y_test['Family'].replace('Hylidae',3,inplace=True);Y_test['Family'].replace('Leptodactylidae',4,inplace=True);\n",
    "Y_test['Genus'].replace('Adenomera',1,inplace=True);Y_test['Genus'].replace('Ameerega',2,inplace=True);Y_test['Genus'].replace('Dendropsophus',3,inplace=True);Y_test['Genus'].replace('Hypsiboas',4,inplace=True);\n",
    "Y_test['Genus'].replace('Leptodactylus',5,inplace=True);Y_test['Genus'].replace('Osteocephalus',6,inplace=True);Y_test['Genus'].replace('Rhinella',7,inplace=True);Y_test['Genus'].replace('Scinax',8,inplace=True);\n",
    "Y_test['Species'].replace('AdenomeraAndre',1,inplace=True);Y_test['Species'].replace('AdenomeraHylaedactylus',2,inplace=True);Y_test['Species'].replace('Ameeregatrivittata',3,inplace=True);Y_test['Species'].replace('HylaMinuta',4,inplace=True);\n",
    "Y_test['Species'].replace('HypsiboasCinerascens',5,inplace=True);Y_test['Species'].replace('HypsiboasCordobae',6,inplace=True);Y_test['Species'].replace('LeptodactylusFuscus',7,inplace=True);Y_test['Species'].replace('OsteocephalusOophagus',8,inplace=True);\n",
    "Y_test['Species'].replace('Rhinellagranulosa',9,inplace=True);Y_test['Species'].replace('ScinaxRuber',10,inplace=True);"
   ]
  },
  {
   "cell_type": "code",
   "execution_count": 31,
   "metadata": {},
   "outputs": [],
   "source": [
    "C = np.logspace(-3, 3, 10)\n",
    "gamma = np.logspace(-3, 1,10)\n",
    "param = dict(gamma=gamma, C=C)\n",
    "#svm= OneVsRestClassifier(SVC(kernel='rbf',random_state=123))\n",
    "svm = GridSearchCV(SVC(kernel='rbf',random_state=123), param_grid=param, cv=3)\n",
    "#baseline = GridSearchCV(svm, param_grid=param, cv=3)\n",
    "chains = [ClassifierChain(svm, order='random', random_state=i) for i in range(3)]\n",
    "j=0\n",
    "for chain in chains:\n",
    "    chain.fit(X_train, pd.DataFrame(Y_train.iloc[:,j]))\n",
    "    j+=1\n",
    "Y_pred_chains = np.array([chain.predict(X_test) for chain in chains])"
   ]
  },
  {
   "cell_type": "code",
   "execution_count": 32,
   "metadata": {},
   "outputs": [
    {
     "name": "stdout",
     "output_type": "stream",
     "text": [
      "classifier 1 exact match is  0.9916628068550255\n",
      "classifier 1 hamming score is  0.008337193144974525\n",
      "classifier 2 exact match is  0.9921259842519685\n",
      "classifier 2 hamming score is  0.007874015748031496\n",
      "classifier 3 exact match is  0.9898100972672533\n",
      "classifier 3 hamming score is  0.010189902732746642\n"
     ]
    }
   ],
   "source": [
    "# classifier chains\n",
    "h=0\n",
    "for Y_pred_chain in Y_pred_chains:\n",
    "    print('classifier',(h+1),'exact match is ',accuracy_score(Y_test.iloc[:,h], Y_pred_chain))\n",
    "    print('classifier',(h+1),'hamming score is ',hamming_loss(Y_test.iloc[:,h], Y_pred_chain))\n",
    "    h+=1"
   ]
  },
  {
   "cell_type": "code",
   "execution_count": 33,
   "metadata": {},
   "outputs": [
    {
     "name": "stdout",
     "output_type": "stream",
     "text": [
      "For n_clusters = 2 The average CH is : 3680.7413494630937\n",
      "For n_clusters = 3 The average CH is : 3157.6375348307733\n",
      "For n_clusters = 4 The average CH is : 2756.4749894406414\n",
      "For n_clusters = 5 The average CH is : 2628.953027816781\n",
      "For n_clusters = 6 The average CH is : 2390.2350026691993\n",
      "For n_clusters = 7 The average CH is : 2235.9894596927315\n",
      "For n_clusters = 8 The average CH is : 2128.497449664384\n",
      "For n_clusters = 9 The average CH is : 2049.158324338749\n",
      "For n_clusters = 10 The average CH is : 1974.2065139372091\n",
      "choose the value of K=2 with the largest score CH(K).\n"
     ]
    }
   ],
   "source": [
    "# K-means( Selecting K with CH index )\n",
    "from sklearn.cluster import KMeans\n",
    "from sklearn.metrics import calinski_harabaz_score\n",
    "data_x=pd.DataFrame(inf552.iloc[:,:-4])\n",
    "#data_x=preprocessing.scale(data_x)\n",
    "range_K=range(2,11)\n",
    "for i in range_K:\n",
    "    clusterer = KMeans(n_clusters=i,random_state=123)\n",
    "    cluster_labels = clusterer.fit_predict(data_x)\n",
    "    CH_avg = calinski_harabaz_score(data_x, cluster_labels)\n",
    "    print(\"For n_clusters =\", i,\"The average CH is :\", CH_avg)\n",
    "print('choose the value of K=2 with the largest score CH(K).')"
   ]
  },
  {
   "cell_type": "code",
   "execution_count": 34,
   "metadata": {},
   "outputs": [
    {
     "name": "stdout",
     "output_type": "stream",
     "text": [
      "for cluster 0, the major family is Leptodactylidae.\n",
      "for cluster 1, the major family is Hylidae.\n"
     ]
    },
    {
     "data": {
      "text/html": [
       "<div>\n",
       "<style scoped>\n",
       "    .dataframe tbody tr th:only-of-type {\n",
       "        vertical-align: middle;\n",
       "    }\n",
       "\n",
       "    .dataframe tbody tr th {\n",
       "        vertical-align: top;\n",
       "    }\n",
       "\n",
       "    .dataframe thead th {\n",
       "        text-align: right;\n",
       "    }\n",
       "</style>\n",
       "<table border=\"1\" class=\"dataframe\">\n",
       "  <thead>\n",
       "    <tr style=\"text-align: right;\">\n",
       "      <th>col_0</th>\n",
       "      <th>0</th>\n",
       "      <th>1</th>\n",
       "    </tr>\n",
       "    <tr>\n",
       "      <th>Family</th>\n",
       "      <th></th>\n",
       "      <th></th>\n",
       "    </tr>\n",
       "  </thead>\n",
       "  <tbody>\n",
       "    <tr>\n",
       "      <th>Bufonidae</th>\n",
       "      <td>0</td>\n",
       "      <td>68</td>\n",
       "    </tr>\n",
       "    <tr>\n",
       "      <th>Dendrobatidae</th>\n",
       "      <td>0</td>\n",
       "      <td>542</td>\n",
       "    </tr>\n",
       "    <tr>\n",
       "      <th>Hylidae</th>\n",
       "      <td>124</td>\n",
       "      <td>2041</td>\n",
       "    </tr>\n",
       "    <tr>\n",
       "      <th>Leptodactylidae</th>\n",
       "      <td>3474</td>\n",
       "      <td>946</td>\n",
       "    </tr>\n",
       "  </tbody>\n",
       "</table>\n",
       "</div>"
      ],
      "text/plain": [
       "col_0               0     1\n",
       "Family                     \n",
       "Bufonidae           0    68\n",
       "Dendrobatidae       0   542\n",
       "Hylidae           124  2041\n",
       "Leptodactylidae  3474   946"
      ]
     },
     "execution_count": 34,
     "metadata": {},
     "output_type": "execute_result"
    }
   ],
   "source": [
    "#In each cluster, determine which class is the majority by reading the true labels\n",
    "cluster = KMeans(n_clusters=2,random_state=123)\n",
    "labels = cluster.fit_predict(data_x)\n",
    "print('for cluster 0, the major family is Leptodactylidae.')\n",
    "print('for cluster 1, the major family is Hylidae.')\n",
    "pd.crosstab(inf552.iloc[:,-4],labels)"
   ]
  },
  {
   "cell_type": "code",
   "execution_count": 35,
   "metadata": {},
   "outputs": [
    {
     "name": "stdout",
     "output_type": "stream",
     "text": [
      "for cluster 0, the major genus is Adenomera.\n",
      "for cluster 1, the major genus is Hypsiboas.\n"
     ]
    },
    {
     "data": {
      "text/html": [
       "<div>\n",
       "<style scoped>\n",
       "    .dataframe tbody tr th:only-of-type {\n",
       "        vertical-align: middle;\n",
       "    }\n",
       "\n",
       "    .dataframe tbody tr th {\n",
       "        vertical-align: top;\n",
       "    }\n",
       "\n",
       "    .dataframe thead th {\n",
       "        text-align: right;\n",
       "    }\n",
       "</style>\n",
       "<table border=\"1\" class=\"dataframe\">\n",
       "  <thead>\n",
       "    <tr style=\"text-align: right;\">\n",
       "      <th>col_0</th>\n",
       "      <th>0</th>\n",
       "      <th>1</th>\n",
       "    </tr>\n",
       "    <tr>\n",
       "      <th>Genus</th>\n",
       "      <th></th>\n",
       "      <th></th>\n",
       "    </tr>\n",
       "  </thead>\n",
       "  <tbody>\n",
       "    <tr>\n",
       "      <th>Adenomera</th>\n",
       "      <td>3470</td>\n",
       "      <td>680</td>\n",
       "    </tr>\n",
       "    <tr>\n",
       "      <th>Ameerega</th>\n",
       "      <td>0</td>\n",
       "      <td>542</td>\n",
       "    </tr>\n",
       "    <tr>\n",
       "      <th>Dendropsophus</th>\n",
       "      <td>108</td>\n",
       "      <td>202</td>\n",
       "    </tr>\n",
       "    <tr>\n",
       "      <th>Hypsiboas</th>\n",
       "      <td>14</td>\n",
       "      <td>1579</td>\n",
       "    </tr>\n",
       "    <tr>\n",
       "      <th>Leptodactylus</th>\n",
       "      <td>4</td>\n",
       "      <td>266</td>\n",
       "    </tr>\n",
       "    <tr>\n",
       "      <th>Osteocephalus</th>\n",
       "      <td>0</td>\n",
       "      <td>114</td>\n",
       "    </tr>\n",
       "    <tr>\n",
       "      <th>Rhinella</th>\n",
       "      <td>0</td>\n",
       "      <td>68</td>\n",
       "    </tr>\n",
       "    <tr>\n",
       "      <th>Scinax</th>\n",
       "      <td>2</td>\n",
       "      <td>146</td>\n",
       "    </tr>\n",
       "  </tbody>\n",
       "</table>\n",
       "</div>"
      ],
      "text/plain": [
       "col_0             0     1\n",
       "Genus                    \n",
       "Adenomera      3470   680\n",
       "Ameerega          0   542\n",
       "Dendropsophus   108   202\n",
       "Hypsiboas        14  1579\n",
       "Leptodactylus     4   266\n",
       "Osteocephalus     0   114\n",
       "Rhinella          0    68\n",
       "Scinax            2   146"
      ]
     },
     "execution_count": 35,
     "metadata": {},
     "output_type": "execute_result"
    }
   ],
   "source": [
    "print('for cluster 0, the major genus is Adenomera.')\n",
    "print('for cluster 1, the major genus is Hypsiboas.')\n",
    "pd.crosstab(inf552.iloc[:,-3],labels)"
   ]
  },
  {
   "cell_type": "code",
   "execution_count": 36,
   "metadata": {},
   "outputs": [
    {
     "name": "stdout",
     "output_type": "stream",
     "text": [
      "for cluster 0, the major species is AdenomeraHylaedactylus.\n",
      "for cluster 1, the major species is HypsiboasCordobae.\n"
     ]
    },
    {
     "data": {
      "text/html": [
       "<div>\n",
       "<style scoped>\n",
       "    .dataframe tbody tr th:only-of-type {\n",
       "        vertical-align: middle;\n",
       "    }\n",
       "\n",
       "    .dataframe tbody tr th {\n",
       "        vertical-align: top;\n",
       "    }\n",
       "\n",
       "    .dataframe thead th {\n",
       "        text-align: right;\n",
       "    }\n",
       "</style>\n",
       "<table border=\"1\" class=\"dataframe\">\n",
       "  <thead>\n",
       "    <tr style=\"text-align: right;\">\n",
       "      <th>col_0</th>\n",
       "      <th>0</th>\n",
       "      <th>1</th>\n",
       "    </tr>\n",
       "    <tr>\n",
       "      <th>Species</th>\n",
       "      <th></th>\n",
       "      <th></th>\n",
       "    </tr>\n",
       "  </thead>\n",
       "  <tbody>\n",
       "    <tr>\n",
       "      <th>AdenomeraAndre</th>\n",
       "      <td>0</td>\n",
       "      <td>672</td>\n",
       "    </tr>\n",
       "    <tr>\n",
       "      <th>AdenomeraHylaedactylus</th>\n",
       "      <td>3470</td>\n",
       "      <td>8</td>\n",
       "    </tr>\n",
       "    <tr>\n",
       "      <th>Ameeregatrivittata</th>\n",
       "      <td>0</td>\n",
       "      <td>542</td>\n",
       "    </tr>\n",
       "    <tr>\n",
       "      <th>HylaMinuta</th>\n",
       "      <td>108</td>\n",
       "      <td>202</td>\n",
       "    </tr>\n",
       "    <tr>\n",
       "      <th>HypsiboasCinerascens</th>\n",
       "      <td>0</td>\n",
       "      <td>472</td>\n",
       "    </tr>\n",
       "    <tr>\n",
       "      <th>HypsiboasCordobae</th>\n",
       "      <td>14</td>\n",
       "      <td>1107</td>\n",
       "    </tr>\n",
       "    <tr>\n",
       "      <th>LeptodactylusFuscus</th>\n",
       "      <td>4</td>\n",
       "      <td>266</td>\n",
       "    </tr>\n",
       "    <tr>\n",
       "      <th>OsteocephalusOophagus</th>\n",
       "      <td>0</td>\n",
       "      <td>114</td>\n",
       "    </tr>\n",
       "    <tr>\n",
       "      <th>Rhinellagranulosa</th>\n",
       "      <td>0</td>\n",
       "      <td>68</td>\n",
       "    </tr>\n",
       "    <tr>\n",
       "      <th>ScinaxRuber</th>\n",
       "      <td>2</td>\n",
       "      <td>146</td>\n",
       "    </tr>\n",
       "  </tbody>\n",
       "</table>\n",
       "</div>"
      ],
      "text/plain": [
       "col_0                      0     1\n",
       "Species                           \n",
       "AdenomeraAndre             0   672\n",
       "AdenomeraHylaedactylus  3470     8\n",
       "Ameeregatrivittata         0   542\n",
       "HylaMinuta               108   202\n",
       "HypsiboasCinerascens       0   472\n",
       "HypsiboasCordobae         14  1107\n",
       "LeptodactylusFuscus        4   266\n",
       "OsteocephalusOophagus      0   114\n",
       "Rhinellagranulosa          0    68\n",
       "ScinaxRuber                2   146"
      ]
     },
     "execution_count": 36,
     "metadata": {},
     "output_type": "execute_result"
    }
   ],
   "source": [
    "print('for cluster 0, the major species is AdenomeraHylaedactylus.')\n",
    "print('for cluster 1, the major species is HypsiboasCordobae.')\n",
    "pd.crosstab(inf552.iloc[:,-2],labels)"
   ]
  },
  {
   "cell_type": "code",
   "execution_count": 37,
   "metadata": {},
   "outputs": [
    {
     "name": "stdout",
     "output_type": "stream",
     "text": [
      "the average Hamming distance (score):  0.29854065323140605\n"
     ]
    }
   ],
   "source": [
    "#Calculate the average Hamming distance (score) between the true labels and the labels assigned by clusters. \n",
    "multi=[]\n",
    "for i in labels:\n",
    "    if i==0:\n",
    "        multi.append(['Leptodactylidae','Adenomera','AdenomeraHylaedactylus'])\n",
    "    else:\n",
    "        multi.append(['Hylidae','Hypsiboas','HypsiboasCordobae'])\n",
    "data_y=pd.DataFrame(inf552.iloc[:,-4:-1])\n",
    "hamming_score=0\n",
    "for i in range(len(data_y)):\n",
    "    hamming_score+=hamming_loss(data_y.values[i],multi[i])\n",
    "print('the average Hamming distance (score): ',hamming_score/len(data_y))"
   ]
  },
  {
   "cell_type": "code",
   "execution_count": 38,
   "metadata": {},
   "outputs": [],
   "source": [
    "# Monte-Carlo Simulation: Perform the procedures above 50 times\n",
    "hamming=[]\n",
    "for n in range(50):\n",
    "    ch_avg=[0]*10;best_k,maximum=1,0;\n",
    "    for i in range(2,11):\n",
    "        clu = KMeans(n_clusters=i)\n",
    "        clu_labels = clu.fit_predict(data_x)\n",
    "        ch_avg[i-1] = calinski_harabaz_score(data_x, clu_labels)\n",
    "        if ch_avg[i-1]>maximum:\n",
    "            best_k=i;maximum=ch_avg[i-1];          \n",
    "    best_clu = KMeans(n_clusters=best_k)\n",
    "    ls = best_clu.fit_predict(data_x)\n",
    "    label_triplet=[] \n",
    "    for j in range(best_k):\n",
    "        triplet=[]\n",
    "        triplet.append(pd.crosstab(inf552.iloc[:,-4],ls)[j].idxmax())\n",
    "        triplet.append(pd.crosstab(inf552.iloc[:,-3],ls)[j].idxmax())\n",
    "        triplet.append(pd.crosstab(inf552.iloc[:,-2],ls)[j].idxmax())\n",
    "        label_triplet.append(triplet)\n",
    "    multiple=[]\n",
    "    for v in ls:\n",
    "        if v==0:\n",
    "            multiple.append(label_triplet[0])\n",
    "        else:\n",
    "            multiple.append(label_triplet[1])\n",
    "    ham_score=0\n",
    "    for w in range(len(data_y)):\n",
    "        ham_score+=hamming_loss(data_y.values[w],multiple[w])\n",
    "    hamming.append(ham_score/len(data_y))"
   ]
  },
  {
   "cell_type": "code",
   "execution_count": 39,
   "metadata": {},
   "outputs": [
    {
     "name": "stdout",
     "output_type": "stream",
     "text": [
      "the averge:  0.29854065323140605\n",
      "the std: 0.0\n"
     ]
    }
   ],
   "source": [
    "# report the average and standard deviation of the 50 Hamming Distances\n",
    "print('the averge: ',np.mean(hamming))\n",
    "print('the std:',np.std(hamming))"
   ]
  },
  {
   "cell_type": "code",
   "execution_count": null,
   "metadata": {},
   "outputs": [],
   "source": []
  }
 ],
 "metadata": {
  "kernelspec": {
   "display_name": "Python 3",
   "language": "python",
   "name": "python3"
  },
  "language_info": {
   "codemirror_mode": {
    "name": "ipython",
    "version": 3
   },
   "file_extension": ".py",
   "mimetype": "text/x-python",
   "name": "python",
   "nbconvert_exporter": "python",
   "pygments_lexer": "ipython3",
   "version": "3.6.6"
  }
 },
 "nbformat": 4,
 "nbformat_minor": 2
}
